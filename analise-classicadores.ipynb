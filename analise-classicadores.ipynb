{
 "cells": [
  {
   "cell_type": "markdown",
   "metadata": {},
   "source": [
    "### Trabalho prático de Inteligência artificial\n",
    "\n",
    "#### Aluno: Matheus Piltz Scariot\n",
    "#### RGA: 202119070129"
   ]
  },
  {
   "cell_type": "markdown",
   "metadata": {},
   "source": [
    "# Base de dados 1"
   ]
  },
  {
   "cell_type": "markdown",
   "metadata": {},
   "source": [
    "1.1 – Problema\n",
    "\n",
    "A base de dados fetch_covtype, é uma das disponíveis na bibiblioteca sklearn, ela oferece dados sobre a topologia florestas."
   ]
  },
  {
   "cell_type": "markdown",
   "metadata": {},
   "source": [
    "1.2 – Análise Exploratória dos Dados\n",
    "\n",
    "A base de dados possui 54 atriburos, dentre eles a elevação, o aspecto dessa vegetação, a distancia horizontal para a hidrologia (acredito que seja elevação para o nível do mar), a distancia vertical para a hidrologia, entre vários outros. Todos os dados são numéricos e estão normalizados."
   ]
  },
  {
   "cell_type": "code",
   "execution_count": 11,
   "metadata": {},
   "outputs": [],
   "source": [
    "from sklearn.datasets import fetch_covtype as fc\n",
    "\n",
    "cov_type = fc()"
   ]
  },
  {
   "cell_type": "markdown",
   "metadata": {},
   "source": [
    "1.3 – Pré-processamento dos Dados\n",
    "\n",
    "Como todos dos dados são numéricos e estão normalizados, não há a necessidade de realizar um processamento desses dados."
   ]
  },
  {
   "cell_type": "markdown",
   "metadata": {},
   "source": [
    "1.4 – Aplicação dos Classificadores\n",
    "\n",
    "Serão usados os seguintes classificadores:\n",
    "* Knn\n",
    "* Árvore de decisão\n",
    "* Naive Bayes"
   ]
  },
  {
   "cell_type": "code",
   "execution_count": 18,
   "metadata": {},
   "outputs": [],
   "source": [
    "from sklearn import tree\n",
    "from sklearn.neighbors import KNeighborsClassifier\n",
    "from sklearn.naive_bayes import GaussianNB\n",
    "\n",
    "decision_tree = tree.DecisionTreeClassifier(criterion='entropy', splitter='best')\n",
    "knn = KNeighborsClassifier(n_neighbors=2)\n",
    "naive_bayes = GaussianNB(var_smoothing=1e-5)"
   ]
  },
  {
   "cell_type": "markdown",
   "metadata": {},
   "source": [
    "1.5 – Validação Cruzada"
   ]
  },
  {
   "cell_type": "code",
   "execution_count": 21,
   "metadata": {},
   "outputs": [],
   "source": [
    "from sklearn import model_selection\n",
    "import numpy as np\n",
    "\n",
    "kf = model_selection.StratifiedKFold(n_splits=2)\n",
    "\n",
    "predicter_class = dict()\n",
    "predicter_class['tree'] = np.zeros(cov_type.target.shape[0])\n",
    "predicter_class['knn'] = np.zeros(cov_type.target.shape[0])\n",
    "predicter_class['nayve'] = np.zeros(cov_type.target.shape[0])"
   ]
  },
  {
   "cell_type": "code",
   "execution_count": 22,
   "metadata": {},
   "outputs": [],
   "source": [
    "target = cov_type.target\n",
    "data = cov_type.data\n",
    "\n",
    "for train, test in kf.split(data, target):\n",
    "    data_train, target_train = data[train], target[train]\n",
    "    data_test, targt_test = data[test], target[test]\n",
    "\n",
    "    decision_tree = decision_tree.fit(data_train, target_train)\n",
    "    decision_tree_predicted = decision_tree.predict(data_test)\n",
    "    predicter_class['tree'][test] = decision_tree_predicted\n",
    "\n",
    "    knn_train = knn.fit(data_train, target_train)\n",
    "    knn_predicted = knn.predict(data_test)\n",
    "    predicter_class['knn'][test] = knn_predicted\n",
    "\n",
    "    naive_bayes_train = naive_bayes.fit(data_train, target_train)\n",
    "    naive_bayes_predicted = naive_bayes.predict(data_test)\n",
    "    predicter_class['nayve'][test] = naive_bayes_predicted"
   ]
  },
  {
   "cell_type": "markdown",
   "metadata": {},
   "source": [
    "1.6 – Comparação dos Resultados\n"
   ]
  },
  {
   "cell_type": "code",
   "execution_count": null,
   "metadata": {},
   "outputs": [],
   "source": [
    "from sklearn import metrics\n",
    "from sklearn.metrics import accuracy_score\n",
    "from sklearn.metrics import check_scoring\n",
    "import matplotlib.pyplot as plt\n",
    "import pandas as pd\n",
    "\n",
    "\n",
    "accuracies = {}\n",
    "for classifier in predicter_class.keys():\n",
    "    accuracies[classifier] = accuracy_score(target, predicter_class[classifier])\n",
    "\n",
    "accuracies_df = pd.DataFrame(list(accuracies.items()), columns=['Classifier', 'Accuracy'])\n",
    "\n",
    "    \n",
    "plt.figure(figsize=(10, 6))\n",
    "plt.bar(accuracies_df['Classifier'], accuracies_df['Accuracy'], color=['blue', 'green', 'red'])\n",
    "plt.xlabel('Classificador')\n",
    "plt.ylabel('Acuracia')\n",
    "plt.title('Acuracia para os diferente classificadores')\n",
    "plt.ylim(0, 1)\n",
    "plt.show()"
   ]
  },
  {
   "cell_type": "code",
   "execution_count": null,
   "metadata": {},
   "outputs": [],
   "source": [
    "results = {'Classificador': [], 'Correto': [], 'Incorreto': []}\n",
    "\n",
    "for classifier in predicter_class.keys():\n",
    "    correct = (predicter_class[classifier] == target).sum()\n",
    "    incorrect = (predicter_class[classifier] != target).sum()\n",
    "    results['Classificador'].append(classifier)\n",
    "    results['Correto'].append(correct)\n",
    "    results['Incorreto'].append(incorrect)\n",
    "\n",
    "results_df = pd.DataFrame(results)\n",
    "\n",
    "\n",
    "plt.figure(figsize=(10, 6))\n",
    "plt.bar(results_df['Classificador'], results_df['Correto'], color='green', label='Correto')\n",
    "plt.bar(results_df['Classificador'], results_df['Incorreto'], bottom=results_df['Correto'], color='red', label='Incorreto')\n",
    "plt.xlabel('Classificadores')\n",
    "plt.ylabel('Número de predições')\n",
    "plt.title('Predições corretas e incorretas por classificador')\n",
    "plt.legend()\n",
    "plt.show()"
   ]
  },
  {
   "cell_type": "markdown",
   "metadata": {},
   "source": [
    "1.7 – Discussão"
   ]
  },
  {
   "cell_type": "markdown",
   "metadata": {},
   "source": [
    "# Base de dados 2"
   ]
  },
  {
   "cell_type": "markdown",
   "metadata": {},
   "source": [
    "2.1 – Problema\n",
    "\n",
    "A base de dados breast cancer lida com dados de cancer de mama de Wisconsin."
   ]
  },
  {
   "cell_type": "code",
   "execution_count": 57,
   "metadata": {},
   "outputs": [],
   "source": [
    "from sklearn import datasets\n",
    "\n",
    "data = datasets.load_breast_cancer()"
   ]
  },
  {
   "cell_type": "markdown",
   "metadata": {},
   "source": [
    "2.2 – Análise Exploratória dos Dados\n",
    "\n",
    "A base de dados possui 30 atributos raio médio, textura média, pior dimensão fractal dentre outros. Todos os dados são numéricos e estão normalizados."
   ]
  },
  {
   "cell_type": "markdown",
   "metadata": {},
   "source": [
    "\n",
    "2.3 – Pré-processamento dos Dados\n",
    "\n",
    "Como todos dos dados são numéricos e estão normalizados, não há a necessidade de realizar um processamento desses dados."
   ]
  },
  {
   "cell_type": "markdown",
   "metadata": {},
   "source": [
    "2.4 – Aplicação dos Classificadores\n",
    "\n",
    "Serão usados os seguintes classificadores:\n",
    "* Knn\n",
    "* Árvore de decisão\n",
    "* Naive Bayes"
   ]
  },
  {
   "cell_type": "code",
   "execution_count": 58,
   "metadata": {},
   "outputs": [],
   "source": [
    "from sklearn import tree\n",
    "from sklearn.neighbors import KNeighborsClassifier\n",
    "from sklearn.naive_bayes import GaussianNB\n",
    "\n",
    "decision_tree = tree.DecisionTreeClassifier(criterion='entropy', splitter='best')\n",
    "knn = KNeighborsClassifier(n_neighbors=3)\n",
    "naive_bayes = GaussianNB(var_smoothing=1e-9)"
   ]
  },
  {
   "cell_type": "markdown",
   "metadata": {},
   "source": [
    "2.5 – Validação Cruzada"
   ]
  },
  {
   "cell_type": "code",
   "execution_count": 59,
   "metadata": {},
   "outputs": [],
   "source": [
    "from sklearn import model_selection\n",
    "import numpy as np\n",
    "\n",
    "kf = model_selection.StratifiedKFold(n_splits=10)\n",
    "number_elements = data.target.shape\n",
    "\n",
    "predicter_class = dict()\n",
    "predicter_class['tree'] = np.zeros(number_elements)\n",
    "predicter_class['knn'] = np.zeros(number_elements)\n",
    "predicter_class['nayve'] = np.zeros(number_elements)"
   ]
  },
  {
   "cell_type": "code",
   "execution_count": 60,
   "metadata": {},
   "outputs": [],
   "source": [
    "target = data.target\n",
    "data = data.data\n",
    "\n",
    "for train, test in kf.split(data, target):\n",
    "    data_train, target_train = data[train], target[train]\n",
    "    data_test, targt_test = data[test], target[test]\n",
    "\n",
    "    decision_tree = decision_tree.fit(data_train, target_train)\n",
    "    decision_tree_predicted = decision_tree.predict(data_test)\n",
    "    predicter_class['tree'][test] = decision_tree_predicted\n",
    "\n",
    "    knn_train = knn.fit(data_train, target_train)\n",
    "    knn_predicted = knn.predict(data_test)\n",
    "    predicter_class['knn'][test] = knn_predicted\n",
    "\n",
    "    naive_bayes_train = naive_bayes.fit(data_train, target_train)\n",
    "    naive_bayes_predicted = naive_bayes.predict(data_test)\n",
    "    predicter_class['nayve'][test] = naive_bayes_predicted"
   ]
  },
  {
   "cell_type": "markdown",
   "metadata": {},
   "source": [
    "2.6 – Comparação dos Resultados"
   ]
  },
  {
   "cell_type": "code",
   "execution_count": 61,
   "metadata": {},
   "outputs": [
    {
     "data": {
      "image/png": "[encoded data removed]",
      "text/plain": [
       "<Figure size 1000x600 with 1 Axes>"
      ]
     },
     "metadata": {},
     "output_type": "display_data"
    }
   ],
   "source": [
    "from sklearn import metrics\n",
    "from sklearn.metrics import accuracy_score\n",
    "from sklearn.metrics import check_scoring\n",
    "import matplotlib.pyplot as plt\n",
    "import pandas as pd\n",
    "\n",
    "\n",
    "accuracies = {}\n",
    "for classifier in predicter_class.keys():\n",
    "    accuracies[classifier] = accuracy_score(target, predicter_class[classifier])\n",
    "\n",
    "accuracies_df = pd.DataFrame(list(accuracies.items()), columns=['Classifier', 'Accuracy'])\n",
    "\n",
    "    \n",
    "plt.figure(figsize=(10, 6))\n",
    "plt.bar(accuracies_df['Classifier'], accuracies_df['Accuracy'], color=['blue', 'green', 'red'])\n",
    "plt.xlabel('Classificador')\n",
    "plt.ylabel('Acuracia')\n",
    "plt.title('Acuracia para os diferente classificadores')\n",
    "plt.ylim(0, 1) \n",
    "plt.show()"
   ]
  },
  {
   "cell_type": "code",
   "execution_count": 62,
   "metadata": {},
   "outputs": [
    {
     "data": {
      "image/png": "[encoded data removed]",
      "text/plain": [
       "<Figure size 1000x600 with 1 Axes>"
      ]
     },
     "metadata": {},
     "output_type": "display_data"
    }
   ],
   "source": [
    "results = {'Classificador': [], 'Correto': [], 'Incorreto': []}\n",
    "\n",
    "for classifier in predicter_class.keys():\n",
    "    correct = (predicter_class[classifier] == target).sum()\n",
    "    incorrect = (predicter_class[classifier] != target).sum()\n",
    "    results['Classificador'].append(classifier)\n",
    "    results['Correto'].append(correct)\n",
    "    results['Incorreto'].append(incorrect)\n",
    "\n",
    "results_df = pd.DataFrame(results)\n",
    "\n",
    "\n",
    "plt.figure(figsize=(10, 6))\n",
    "plt.bar(results_df['Classificador'], results_df['Correto'], color='green', label='Correto')\n",
    "plt.bar(results_df['Classificador'], results_df['Incorreto'], bottom=results_df['Correto'], color='red', label='Incorreto')\n",
    "plt.xlabel('Classificadores')\n",
    "plt.ylabel('Número de predições')\n",
    "plt.title('Predições corretas e incorretas por classificador')\n",
    "plt.legend()\n",
    "plt.show()"
   ]
  },
  {
   "cell_type": "markdown",
   "metadata": {},
   "source": [
    "2.7 – Discussão\n",
    "\n",
    "Podemos verificar no segundo gráfico que todos os algoritmos tiveram uma quantidade de acertos igual em escala, todos estando acima dos 500 acertos,com o nayve baies tendo o maior número de acertos. Em relação a acuracia, o algoritmo de árvore de decisão foi ligeiramente inferior.\n",
    "\n",
    "### Árvore de decisão\n",
    "\n",
    "O parâmetro criterion estabelecido como entropy teve um desempenho superior ao gini.\n",
    "\n",
    "---\n",
    "\n",
    "### KNN\n",
    "\n",
    "A alteração do parametro n_neighbors não surtiu efeitos visiveis.\n",
    "\n",
    "---\n",
    "\n",
    "### Nayve Baies\n",
    "\n",
    "O parâmetro var_smoothing se saiu de forma superior com o valor default."
   ]
  },
  {
   "cell_type": "markdown",
   "metadata": {},
   "source": [
    "# Base de dados 3"
   ]
  },
  {
   "cell_type": "markdown",
   "metadata": {},
   "source": [
    "3.1 – Problema\n",
    "\n",
    "O conjunto de dados diabetes é dispolonibilizado pela sklearn e possui dados de pacientes com diabetes."
   ]
  },
  {
   "cell_type": "code",
   "execution_count": 129,
   "metadata": {},
   "outputs": [],
   "source": [
    "from sklearn import datasets\n",
    "\n",
    "data = datasets.load_diabetes() "
   ]
  },
  {
   "cell_type": "markdown",
   "metadata": {},
   "source": [
    "3.2 – Análise Exploratória dos Dados\n",
    "\n",
    "O conjunto possui 10 atributos, como idade, sexo e indicadores de saúde."
   ]
  },
  {
   "cell_type": "markdown",
   "metadata": {},
   "source": [
    "3.3 – Pré-processamento dos Dados\n",
    "\n",
    "Novamente não há a necessidade de um tratamento dos dados, pois eles já são numéricos e estão normalizados."
   ]
  },
  {
   "cell_type": "markdown",
   "metadata": {},
   "source": [
    "3.4 – Aplicação dos Classificadores\n",
    "\n",
    "Serão usados os seguintes classificadores:\n",
    "* Knn\n",
    "* Árvore de decisão\n",
    "* Naive Bayes"
   ]
  },
  {
   "cell_type": "code",
   "execution_count": 130,
   "metadata": {},
   "outputs": [],
   "source": [
    "from sklearn import tree\n",
    "from sklearn.neighbors import KNeighborsClassifier\n",
    "from sklearn.naive_bayes import GaussianNB\n",
    "\n",
    "decision_tree = tree.DecisionTreeClassifier(criterion='entropy', splitter='best')\n",
    "knn = KNeighborsClassifier(n_neighbors=2)\n",
    "naive_bayes = GaussianNB(var_smoothing=1e-9)"
   ]
  },
  {
   "cell_type": "markdown",
   "metadata": {},
   "source": [
    "3.5 – Validação Cruzada"
   ]
  },
  {
   "cell_type": "code",
   "execution_count": 131,
   "metadata": {},
   "outputs": [],
   "source": [
    "from sklearn import model_selection\n",
    "import numpy as np\n",
    "\n",
    "kf = model_selection.StratifiedKFold(n_splits=6)\n",
    "number_elements = data.target.shape\n",
    "\n",
    "predicter_class = dict()\n",
    "predicter_class['tree'] = np.zeros(number_elements)\n",
    "predicter_class['knn'] = np.zeros(number_elements)\n",
    "predicter_class['nayve'] = np.zeros(number_elements)"
   ]
  },
  {
   "cell_type": "code",
   "execution_count": 132,
   "metadata": {},
   "outputs": [
    {
     "name": "stderr",
     "output_type": "stream",
     "text": [
      "C:\\Users\\JRena\\AppData\\Local\\Packages\\PythonSoftwareFoundation.Python.3.12_qbz5n2kfra8p0\\LocalCache\\local-packages\\Python312\\site-packages\\sklearn\\model_selection\\_split.py:737: UserWarning: The least populated class in y has only 1 members, which is less than n_splits=6.\n",
      "  warnings.warn(\n"
     ]
    }
   ],
   "source": [
    "target = data.target\n",
    "data = data.data\n",
    "\n",
    "for train, test in kf.split(data, target):\n",
    "    data_train, target_train = data[train], target[train]\n",
    "    data_test, targt_test = data[test], target[test]\n",
    "\n",
    "    decision_tree = decision_tree.fit(data_train, target_train)\n",
    "    decision_tree_predicted = decision_tree.predict(data_test)\n",
    "    predicter_class['tree'][test] = decision_tree_predicted\n",
    "\n",
    "    knn_train = knn.fit(data_train, target_train)\n",
    "    knn_predicted = knn.predict(data_test)\n",
    "    predicter_class['knn'][test] = knn_predicted\n",
    "\n",
    "    naive_bayes_train = naive_bayes.fit(data_train, target_train)\n",
    "    naive_bayes_predicted = naive_bayes.predict(data_test)\n",
    "    predicter_class['nayve'][test] = naive_bayes_predicted"
   ]
  },
  {
   "cell_type": "markdown",
   "metadata": {},
   "source": [
    "3.6 – Comparação dos Resultados"
   ]
  },
  {
   "cell_type": "code",
   "execution_count": 133,
   "metadata": {},
   "outputs": [
    {
     "data": {
      "image/png": "[encoded data removed]",
      "text/plain": [
       "<Figure size 1000x600 with 1 Axes>"
      ]
     },
     "metadata": {},
     "output_type": "display_data"
    }
   ],
   "source": [
    "from sklearn import metrics\n",
    "from sklearn.metrics import accuracy_score\n",
    "from sklearn.metrics import check_scoring\n",
    "import matplotlib.pyplot as plt\n",
    "import pandas as pd\n",
    "\n",
    "\n",
    "accuracies = {}\n",
    "for classifier in predicter_class.keys():\n",
    "    accuracies[classifier] = accuracy_score(target, predicter_class[classifier])\n",
    "\n",
    "accuracies_df = pd.DataFrame(list(accuracies.items()), columns=['Classifier', 'Accuracy'])\n",
    "\n",
    "    \n",
    "plt.figure(figsize=(10, 6))\n",
    "plt.bar(accuracies_df['Classifier'], accuracies_df['Accuracy'], color=['blue', 'green', 'red'])\n",
    "plt.xlabel('Classificador')\n",
    "plt.ylabel('Acuracia')\n",
    "plt.title('Acuracia para os diferente classificadores')\n",
    "plt.ylim(0, 1) \n",
    "plt.show()"
   ]
  },
  {
   "cell_type": "code",
   "execution_count": 134,
   "metadata": {},
   "outputs": [
    {
     "data": {
      "image/png": "[encoded data removed]",
      "text/plain": [
       "<Figure size 1000x600 with 1 Axes>"
      ]
     },
     "metadata": {},
     "output_type": "display_data"
    }
   ],
   "source": [
    "results = {'Classificador': [], 'Correto': [], 'Incorreto': []}\n",
    "\n",
    "for classifier in predicter_class.keys():\n",
    "    correct = (predicter_class[classifier] == target).sum()\n",
    "    incorrect = (predicter_class[classifier] != target).sum()\n",
    "    results['Classificador'].append(classifier)\n",
    "    results['Correto'].append(correct)\n",
    "    results['Incorreto'].append(incorrect)\n",
    "\n",
    "results_df = pd.DataFrame(results)\n",
    "\n",
    "\n",
    "plt.figure(figsize=(10, 6))\n",
    "plt.bar(results_df['Classificador'], results_df['Correto'], color='green', label='Correto')\n",
    "plt.bar(results_df['Classificador'], results_df['Incorreto'], bottom=results_df['Correto'], color='red', label='Incorreto')\n",
    "plt.xlabel('Classificadores')\n",
    "plt.ylabel('Número de predições')\n",
    "plt.title('Predições corretas e incorretas por classificador')\n",
    "plt.legend()\n",
    "plt.show()"
   ]
  },
  {
   "cell_type": "markdown",
   "metadata": {},
   "source": [
    "3.7 – Discussão\n",
    "\n",
    "Essa base de dados possui algo em particular em que os algoritmos não se sairam bem, todos ele tiveram péssimas métricas, os ajustes de parametros não surtiram efeitos para melhorar. Aumentar a quantidade de validações cruzadas até deu uma melhorada, mas continuou bem baixo.\n",
    "\n",
    "### Árvore de decisão\n",
    "\n",
    "O criterion que teve o melhor desempenho foi o entropy\n",
    "\n",
    "---\n",
    "\n",
    "### KNN \n",
    "\n",
    "O número de classes descrito na documentação é 2, portanto mantive esse valor.\n",
    "\n",
    "---\n",
    "\n",
    "### Nayve baies\n",
    "\n",
    "A mudança do parametro não alterou significativamente o resultado"
   ]
  },
  {
   "cell_type": "markdown",
   "metadata": {},
   "source": [
    "# Base de dados 4"
   ]
  },
  {
   "cell_type": "markdown",
   "metadata": {},
   "source": [
    "4.1 – Problema\n",
    "\n",
    "A base de dados Customer Churn Prediction informa dados de cliente de uma empresa, usaremos a última coluna, que informa se houve rotatividade para esse cliente, como target;"
   ]
  },
  {
   "cell_type": "code",
   "execution_count": 103,
   "metadata": {},
   "outputs": [],
   "source": [
    "import pandas as pd\n",
    "\n",
    "df = pd.read_csv(r\"datasets\\04 - Customer Churn Prediction\\customer_churn_data.csv\")"
   ]
  },
  {
   "cell_type": "markdown",
   "metadata": {},
   "source": [
    "4.2 – Análise Exploratória dos Dados"
   ]
  },
  {
   "cell_type": "markdown",
   "metadata": {},
   "source": [
    "4.3 – Pré-processamento dos Dados\n",
    "\n",
    "Aqui foi necessário adaptar os dados, atributos que são cadeias de caracteres em numero."
   ]
  },
  {
   "cell_type": "code",
   "execution_count": null,
   "metadata": {},
   "outputs": [],
   "source": [
    "df = df.drop([\"customerID\"], axis=1)\n",
    "\n",
    "df['gender'] = df['gender'].replace({'Male': 1, 'Female': 0})\n",
    "df['Partner'] = df['Partner'].replace({ 'Yes' : 1, 'No' : 0 })\n",
    "df['Dependents'] = df['Dependents'].replace({ 'Yes' : 1, 'No' : 0 })\n",
    "df['PhoneService'] = df['PhoneService'].replace({ 'Yes' : 1, 'No' : 0 })\n",
    "df['MultipleLines'] = df['MultipleLines'].replace({ 'Yes' : 1, 'No' : 0, 'No phone service' : 2 })\n",
    "df['InternetService'] = df['InternetService'].replace({ 'No' : 0, 'DSL' : 1, 'Fiber optic' : 2 })\n",
    "df['OnlineSecurity'] = df['OnlineSecurity'].replace({ 'Yes' : 1, 'No' : 0, 'No internet service' : 2 })\n",
    "df['OnlineBackup'] = df['OnlineBackup'].replace({ 'Yes' : 1, 'No' : 0, 'No internet service' : 2 })\n",
    "df['DeviceProtection'] = df['DeviceProtection'].replace({ 'Yes' : 1, 'No' : 0, 'No internet service' : 2 })\n",
    "df['TechSupport'] = df['TechSupport'].replace({ 'Yes' : 1, 'No' : 0, 'No internet service' : 2 })\n",
    "df['StreamingTV'] = df['StreamingTV'].replace({ 'Yes' : 1, 'No' : 0, 'No internet service' : 2 })\n",
    "df['StreamingMovies'] = df['StreamingMovies'].replace({ 'Yes' : 1, 'No' : 0, 'No internet service' : 2 })\n",
    "df['Contract'] = df['Contract'].replace({ 'Month-to-month' : 0, 'One year' : 1, 'Two year' : 2 })\n",
    "df['PaperlessBilling'] = df['PaperlessBilling'].replace({ 'Yes' : 1, 'No' : 0 })\n",
    "df['PaymentMethod'] = df['PaymentMethod'].replace({ 'Bank transfer' : 0, 'Mailed check' : 1, 'Electronic check' : 2, 'Credit card' : 3 })\n",
    "df['Churn'] = df['Churn'].replace({ 'Yes' : 1, 'No' : 0 })"
   ]
  },
  {
   "cell_type": "markdown",
   "metadata": {},
   "source": [
    "Após esse processo de converter as cadeias de caracteres foi necessário realizar a normalização dos dados."
   ]
  },
  {
   "cell_type": "code",
   "execution_count": 105,
   "metadata": {},
   "outputs": [],
   "source": [
    "from sklearn.preprocessing import MinMaxScaler\n",
    "\n",
    "scaler = MinMaxScaler()\n",
    "\n",
    "df_normalized = pd.DataFrame(scaler.fit_transform(df), columns=df.columns)"
   ]
  },
  {
   "cell_type": "markdown",
   "metadata": {},
   "source": [
    "4.4 – Aplicação dos Classificadores\n",
    "\n",
    "Serão usados os seguintes classificadores:\n",
    "* Knn\n",
    "* Árvore de decisão\n",
    "* Naive Bayes"
   ]
  },
  {
   "cell_type": "code",
   "execution_count": 106,
   "metadata": {},
   "outputs": [],
   "source": [
    "from sklearn import tree\n",
    "from sklearn.neighbors import KNeighborsClassifier\n",
    "from sklearn.naive_bayes import GaussianNB\n",
    "\n",
    "decision_tree = tree.DecisionTreeClassifier(criterion='entropy', splitter='best')\n",
    "knn = KNeighborsClassifier(n_neighbors=2)\n",
    "naive_bayes = GaussianNB(priors=[0.5, 0.5], var_smoothing=1e-5)"
   ]
  },
  {
   "cell_type": "markdown",
   "metadata": {},
   "source": [
    "4.5 – Validação Cruzada\n",
    "\n",
    "Para a validação cruzada foi utilizada a técnica ensinada na video aula."
   ]
  },
  {
   "cell_type": "code",
   "execution_count": 107,
   "metadata": {},
   "outputs": [],
   "source": [
    "from sklearn import model_selection\n",
    "import numpy as np\n",
    "\n",
    "kf = model_selection.StratifiedKFold(n_splits=10)\n",
    "\n",
    "predicter_class = dict()\n",
    "predicter_class['tree'] = np.zeros(df_normalized['Churn'].shape[0])\n",
    "predicter_class['knn'] = np.zeros(df_normalized['Churn'].shape[0])\n",
    "predicter_class['nayve'] = np.zeros(df_normalized['Churn'].shape[0])"
   ]
  },
  {
   "cell_type": "code",
   "execution_count": 108,
   "metadata": {},
   "outputs": [],
   "source": [
    "target = df_normalized['Churn']\n",
    "data = df_normalized.drop(['Churn'], axis=1)\n",
    "\n",
    "for train, test in kf.split(data, target):\n",
    "    data_train, target_train = data.iloc[train], target.iloc[train]\n",
    "    data_test, targt_test = data.iloc[test], target.iloc[test]\n",
    "\n",
    "    decision_tree = decision_tree.fit(data_train, target_train)\n",
    "    decision_tree_predicted = decision_tree.predict(data_test)\n",
    "    predicter_class['tree'][test] = decision_tree_predicted\n",
    "\n",
    "    knn_train = knn.fit(data_train, target_train)\n",
    "    knn_predicted = knn.predict(data_test)\n",
    "    predicter_class['knn'][test] = knn_predicted\n",
    "\n",
    "    naive_bayes_train = naive_bayes.fit(data_train, target_train)\n",
    "    naive_bayes_predicted = naive_bayes.predict(data_test)\n",
    "    predicter_class['nayve'][test] = naive_bayes_predicted"
   ]
  },
  {
   "cell_type": "markdown",
   "metadata": {},
   "source": [
    "4.6 – Comparação dos Resultados"
   ]
  },
  {
   "cell_type": "code",
   "execution_count": 109,
   "metadata": {},
   "outputs": [
    {
     "data": {
      "image/png": "[encoded data removed]",
      "text/plain": [
       "<Figure size 1000x600 with 1 Axes>"
      ]
     },
     "metadata": {},
     "output_type": "display_data"
    }
   ],
   "source": [
    "from sklearn import metrics\n",
    "from sklearn.metrics import accuracy_score\n",
    "from sklearn.metrics import check_scoring\n",
    "import matplotlib.pyplot as plt\n",
    "\n",
    "\n",
    "accuracies = {}\n",
    "for classifier in predicter_class.keys():\n",
    "    accuracies[classifier] = accuracy_score(target, predicter_class[classifier])\n",
    "\n",
    "accuracies_df = pd.DataFrame(list(accuracies.items()), columns=['Classifier', 'Accuracy'])\n",
    "\n",
    "    \n",
    "plt.figure(figsize=(10, 6))\n",
    "plt.bar(accuracies_df['Classifier'], accuracies_df['Accuracy'], color=['blue', 'green', 'red'])\n",
    "plt.xlabel('Classificador')\n",
    "plt.ylabel('Acuracia')\n",
    "plt.title('Acuracia para os diferente classificadores')\n",
    "plt.ylim(0, 1) \n",
    "plt.show()"
   ]
  },
  {
   "cell_type": "code",
   "execution_count": 110,
   "metadata": {},
   "outputs": [
    {
     "data": {
      "image/png": "[encoded data removed]",
      "text/plain": [
       "<Figure size 1000x600 with 1 Axes>"
      ]
     },
     "metadata": {},
     "output_type": "display_data"
    }
   ],
   "source": [
    "results = {'Classificador': [], 'Correto': [], 'Incorreto': []}\n",
    "\n",
    "for classifier in predicter_class.keys():\n",
    "    correct = (predicter_class[classifier] == target).sum()\n",
    "    incorrect = (predicter_class[classifier] != target).sum()\n",
    "    results['Classificador'].append(classifier)\n",
    "    results['Correto'].append(correct)\n",
    "    results['Incorreto'].append(incorrect)\n",
    "\n",
    "results_df = pd.DataFrame(results)\n",
    "\n",
    "\n",
    "plt.figure(figsize=(10, 6))\n",
    "plt.bar(results_df['Classificador'], results_df['Correto'], color='green', label='Correto')\n",
    "plt.bar(results_df['Classificador'], results_df['Incorreto'], bottom=results_df['Correto'], color='red', label='Incorreto')\n",
    "plt.xlabel('Classificadores')\n",
    "plt.ylabel('Número de predições')\n",
    "plt.title('Predições corretas e incorretas por classificador')\n",
    "plt.legend()\n",
    "plt.show()"
   ]
  },
  {
   "cell_type": "markdown",
   "metadata": {},
   "source": [
    "4.7 – Discussão"
   ]
  },
  {
   "cell_type": "markdown",
   "metadata": {},
   "source": [
    "Podemos observar no primeiro gráfico que não houve muita diferença na acuracia de ambos os classificadores, O knn ficou um pouco acima, mas nada significativo.\n",
    "No segundo gráfico que mostra a quantidade de acertos e erros tivemos a situação se repetindo, todo muito próximos e o knn ligeiramente superior.\n",
    "\n",
    "## Parametros\n",
    "\n",
    "* Árvore de Decisão\n",
    "\n",
    "    Ambos os criterion tiveram o mesmo resultado, portanto o entropy foi mantido por ter sido abortado em aula; <br>\n",
    "    Para o splitter a mesma situação;\n",
    "--- \n",
    "\n",
    "* KNN\n",
    "\n",
    "    O único parametro testado foi n_neighbors, que não apresentou mudança com os valores 2, 3, 4 e 5\n",
    "---\n",
    "\n",
    "* Nayve bayes\n",
    "\n",
    "    O parametro priors foi mantido em 50% para ambas as classes pois elas possuem quantidades próximas; <br>\n",
    "    O parametro var_smoothing não apresentou diferenças\n",
    "---\n",
    "\n",
    "A conclusão é que todos os algoritmos tiveram resultados parecidos, e os ajustes nos parametros não surtiram muitos efeitos."
   ]
  },
  {
   "cell_type": "markdown",
   "metadata": {},
   "source": [
    "# Base de dados 5"
   ]
  },
  {
   "cell_type": "markdown",
   "metadata": {},
   "source": [
    "5.1 – Problema\n",
    "\n",
    "O dataset digits possui dados de numero escritos a mão e é disponibilizado pela sklearn."
   ]
  },
  {
   "cell_type": "code",
   "execution_count": 150,
   "metadata": {},
   "outputs": [
    {
     "name": "stdout",
     "output_type": "stream",
     "text": [
      "[[ 0.  0.  5. ...  0.  0.  0.]\n",
      " [ 0.  0.  0. ... 10.  0.  0.]\n",
      " [ 0.  0.  0. ... 16.  9.  0.]\n",
      " ...\n",
      " [ 0.  0.  1. ...  6.  0.  0.]\n",
      " [ 0.  0.  2. ... 12.  0.  0.]\n",
      " [ 0.  0. 10. ... 12.  1.  0.]]\n"
     ]
    }
   ],
   "source": [
    "from sklearn import datasets\n",
    "\n",
    "data = datasets.load_digits()\n",
    "print(data.data)"
   ]
  },
  {
   "cell_type": "markdown",
   "metadata": {},
   "source": [
    "5.2 – Análise Exploratória dos Dados\n",
    "\n",
    "O conjunto possui 64 atributos que são relativos aos pixels preenchidos."
   ]
  },
  {
   "cell_type": "markdown",
   "metadata": {},
   "source": [
    "5.3 – Pré-processamento dos Dados\n",
    "\n",
    "Novamente não há a necessidade de um tratamento préveio dos dados, pois eles já estão numéricos e normalizados."
   ]
  },
  {
   "cell_type": "markdown",
   "metadata": {},
   "source": [
    "5.4 – Aplicação dos Classificadores\n",
    "\n",
    "Serão usados os seguintes classificadores:\n",
    "* Knn\n",
    "* Árvore de decisão\n",
    "* Naive Bayes"
   ]
  },
  {
   "cell_type": "code",
   "execution_count": 151,
   "metadata": {},
   "outputs": [],
   "source": [
    "from sklearn import tree\n",
    "from sklearn.neighbors import KNeighborsClassifier\n",
    "from sklearn.naive_bayes import GaussianNB\n",
    "\n",
    "decision_tree = tree.DecisionTreeClassifier(criterion='gini', splitter='best')\n",
    "knn = KNeighborsClassifier(n_neighbors=10)\n",
    "naive_bayes = GaussianNB(var_smoothing=1e-9)"
   ]
  },
  {
   "cell_type": "markdown",
   "metadata": {},
   "source": [
    "5.5 – Validação Cruzada"
   ]
  },
  {
   "cell_type": "code",
   "execution_count": 152,
   "metadata": {},
   "outputs": [],
   "source": [
    "from sklearn import model_selection\n",
    "import numpy as np\n",
    "\n",
    "kf = model_selection.StratifiedKFold(n_splits=10)\n",
    "number_elements = data.target.shape\n",
    "\n",
    "predicter_class = dict()\n",
    "predicter_class['tree'] = np.zeros(number_elements)\n",
    "predicter_class['knn'] = np.zeros(number_elements)\n",
    "predicter_class['nayve'] = np.zeros(number_elements)"
   ]
  },
  {
   "cell_type": "code",
   "execution_count": 153,
   "metadata": {},
   "outputs": [],
   "source": [
    "target = data.target\n",
    "data = data.data\n",
    "\n",
    "for train, test in kf.split(data, target):\n",
    "    data_train, target_train = data[train], target[train]\n",
    "    data_test, targt_test = data[test], target[test]\n",
    "\n",
    "    decision_tree = decision_tree.fit(data_train, target_train)\n",
    "    decision_tree_predicted = decision_tree.predict(data_test)\n",
    "    predicter_class['tree'][test] = decision_tree_predicted\n",
    "\n",
    "    knn_train = knn.fit(data_train, target_train)\n",
    "    knn_predicted = knn.predict(data_test)\n",
    "    predicter_class['knn'][test] = knn_predicted\n",
    "\n",
    "    naive_bayes_train = naive_bayes.fit(data_train, target_train)\n",
    "    naive_bayes_predicted = naive_bayes.predict(data_test)\n",
    "    predicter_class['nayve'][test] = naive_bayes_predicted"
   ]
  },
  {
   "cell_type": "markdown",
   "metadata": {},
   "source": [
    "5.6 – Comparação dos Resultados"
   ]
  },
  {
   "cell_type": "code",
   "execution_count": 154,
   "metadata": {},
   "outputs": [
    {
     "data": {
      "image/png": "[encoded data removed]",
      "text/plain": [
       "<Figure size 1000x600 with 1 Axes>"
      ]
     },
     "metadata": {},
     "output_type": "display_data"
    }
   ],
   "source": [
    "from sklearn import metrics\n",
    "from sklearn.metrics import accuracy_score\n",
    "from sklearn.metrics import check_scoring\n",
    "import matplotlib.pyplot as plt\n",
    "\n",
    "\n",
    "accuracies = {}\n",
    "for classifier in predicter_class.keys():\n",
    "    accuracies[classifier] = accuracy_score(target, predicter_class[classifier])\n",
    "\n",
    "accuracies_df = pd.DataFrame(list(accuracies.items()), columns=['Classifier', 'Accuracy'])\n",
    "\n",
    "    \n",
    "plt.figure(figsize=(10, 6))\n",
    "plt.bar(accuracies_df['Classifier'], accuracies_df['Accuracy'], color=['blue', 'green', 'red'])\n",
    "plt.xlabel('Classificador')\n",
    "plt.ylabel('Acuracia')\n",
    "plt.title('Acuracia para os diferente classificadores')\n",
    "plt.ylim(0, 1) \n",
    "plt.show()"
   ]
  },
  {
   "cell_type": "code",
   "execution_count": 155,
   "metadata": {},
   "outputs": [
    {
     "data": {
      "image/png": "[encoded data removed]",
      "text/plain": [
       "<Figure size 1000x600 with 1 Axes>"
      ]
     },
     "metadata": {},
     "output_type": "display_data"
    }
   ],
   "source": [
    "results = {'Classificador': [], 'Correto': [], 'Incorreto': []}\n",
    "\n",
    "for classifier in predicter_class.keys():\n",
    "    correct = (predicter_class[classifier] == target).sum()\n",
    "    incorrect = (predicter_class[classifier] != target).sum()\n",
    "    results['Classificador'].append(classifier)\n",
    "    results['Correto'].append(correct)\n",
    "    results['Incorreto'].append(incorrect)\n",
    "\n",
    "results_df = pd.DataFrame(results)\n",
    "\n",
    "\n",
    "plt.figure(figsize=(10, 6))\n",
    "plt.bar(results_df['Classificador'], results_df['Correto'], color='green', label='Correto')\n",
    "plt.bar(results_df['Classificador'], results_df['Incorreto'], bottom=results_df['Correto'], color='red', label='Incorreto')\n",
    "plt.xlabel('Classificadores')\n",
    "plt.ylabel('Número de predições')\n",
    "plt.title('Predições corretas e incorretas por classificador')\n",
    "plt.legend()\n",
    "plt.show()"
   ]
  },
  {
   "cell_type": "markdown",
   "metadata": {},
   "source": [
    "5.7 – Discussão\n",
    "\n",
    "Esse é o primeiro algoritmo que temos uma grande diferença nos resultados com o KNN sendo significativamente melhor que os outros classificadores. Entretanto em todos os classificadores não tive uma diferença significativa nos resultados."
   ]
  },
  {
   "cell_type": "markdown",
   "metadata": {},
   "source": [
    "# Base de dados 6"
   ]
  },
  {
   "cell_type": "markdown",
   "metadata": {},
   "source": [
    "6.1 – Problema"
   ]
  },
  {
   "cell_type": "markdown",
   "metadata": {},
   "source": [
    "6.2 – Análise Exploratória dos Dados"
   ]
  },
  {
   "cell_type": "markdown",
   "metadata": {},
   "source": [
    "6.3 – Pré-processamento dos Dados"
   ]
  },
  {
   "cell_type": "markdown",
   "metadata": {},
   "source": [
    "6.4 – Aplicação dos Classificadores\n",
    "\n",
    "Serão usados os seguintes classificadores:\n",
    "* Knn\n",
    "* Árvore de decisão\n",
    "* Naive Bayes"
   ]
  },
  {
   "cell_type": "code",
   "execution_count": null,
   "metadata": {},
   "outputs": [],
   "source": [
    "from sklearn import tree\n",
    "from sklearn.neighbors import KNeighborsClassifier\n",
    "from sklearn.naive_bayes import GaussianNB\n",
    "\n",
    "decision_tree = tree.DecisionTreeClassifier(criterion='entropy', splitter='best')\n",
    "knn = KNeighborsClassifier(n_neighbors=2)\n",
    "naive_bayes = GaussianNB(var_smoothing=1e-5)"
   ]
  },
  {
   "cell_type": "markdown",
   "metadata": {},
   "source": [
    "6.5 – Validação Cruzada"
   ]
  },
  {
   "cell_type": "code",
   "execution_count": null,
   "metadata": {},
   "outputs": [],
   "source": [
    "from sklearn import model_selection\n",
    "import numpy as np\n",
    "\n",
    "kf = model_selection.StratifiedKFold(n_splits=10)\n",
    "number_elements = data.target.shape\n",
    "\n",
    "predicter_class = dict()\n",
    "predicter_class['tree'] = np.zeros(number_elements)\n",
    "predicter_class['knn'] = np.zeros(number_elements)\n",
    "predicter_class['nayve'] = np.zeros(number_elements)"
   ]
  },
  {
   "cell_type": "code",
   "execution_count": null,
   "metadata": {},
   "outputs": [],
   "source": [
    "target = cov_type.target\n",
    "data = cov_type.data\n",
    "\n",
    "for train, test in kf.split(data, target):\n",
    "    data_train, target_train = data[train], target[train]\n",
    "    data_test, targt_test = data[test], target[test]\n",
    "\n",
    "    decision_tree = decision_tree.fit(data_train, target_train)\n",
    "    decision_tree_predicted = decision_tree.predict(data_test)\n",
    "    predicter_class['tree'][test] = decision_tree_predicted\n",
    "\n",
    "    knn_train = knn.fit(data_train, target_train)\n",
    "    knn_predicted = knn.predict(data_test)\n",
    "    predicter_class['knn'][test] = knn_predicted\n",
    "\n",
    "    naive_bayes_train = naive_bayes.fit(data_train, target_train)\n",
    "    naive_bayes_predicted = naive_bayes.predict(data_test)\n",
    "    predicter_class['nayve'][test] = naive_bayes_predicted"
   ]
  },
  {
   "cell_type": "markdown",
   "metadata": {},
   "source": [
    "6.6 – Comparação dos Resultados"
   ]
  },
  {
   "cell_type": "code",
   "execution_count": null,
   "metadata": {},
   "outputs": [],
   "source": [
    "from sklearn import metrics\n",
    "from sklearn.metrics import accuracy_score\n",
    "from sklearn.metrics import check_scoring\n",
    "import matplotlib.pyplot as plt\n",
    "\n",
    "\n",
    "accuracies = {}\n",
    "for classifier in predicter_class.keys():\n",
    "    accuracies[classifier] = accuracy_score(target, predicter_class[classifier])\n",
    "\n",
    "accuracies_df = pd.DataFrame(list(accuracies.items()), columns=['Classifier', 'Accuracy'])\n",
    "\n",
    "    \n",
    "plt.figure(figsize=(10, 6))\n",
    "plt.bar(accuracies_df['Classifier'], accuracies_df['Accuracy'], color=['blue', 'green', 'red'])\n",
    "plt.xlabel('Classificador')\n",
    "plt.ylabel('Acuracia')\n",
    "plt.title('Acuracia para os diferente classificadores')\n",
    "plt.ylim(0, 1) \n",
    "plt.show()"
   ]
  },
  {
   "cell_type": "code",
   "execution_count": null,
   "metadata": {},
   "outputs": [],
   "source": [
    "results = {'Classificador': [], 'Correto': [], 'Incorreto': []}\n",
    "\n",
    "for classifier in predicter_class.keys():\n",
    "    correct = (predicter_class[classifier] == target).sum()\n",
    "    incorrect = (predicter_class[classifier] != target).sum()\n",
    "    results['Classificador'].append(classifier)\n",
    "    results['Correto'].append(correct)\n",
    "    results['Incorreto'].append(incorrect)\n",
    "\n",
    "results_df = pd.DataFrame(results)\n",
    "\n",
    "\n",
    "plt.figure(figsize=(10, 6))\n",
    "plt.bar(results_df['Classificador'], results_df['Correto'], color='green', label='Correto')\n",
    "plt.bar(results_df['Classificador'], results_df['Incorreto'], bottom=results_df['Correto'], color='red', label='Incorreto')\n",
    "plt.xlabel('Classificadores')\n",
    "plt.ylabel('Número de predições')\n",
    "plt.title('Predições corretas e incorretas por classificador')\n",
    "plt.legend()\n",
    "plt.show()"
   ]
  },
  {
   "cell_type": "markdown",
   "metadata": {},
   "source": [
    "6.7 – Discussão"
   ]
  },
  {
   "cell_type": "markdown",
   "metadata": {},
   "source": [
    "# Base de dados 7"
   ]
  },
  {
   "cell_type": "markdown",
   "metadata": {},
   "source": [
    "7.1 – Problema"
   ]
  },
  {
   "cell_type": "markdown",
   "metadata": {},
   "source": [
    "7.2 – Análise Exploratória dos Dados"
   ]
  },
  {
   "cell_type": "markdown",
   "metadata": {},
   "source": [
    "7.3 – Pré-processamento dos Dados"
   ]
  },
  {
   "cell_type": "markdown",
   "metadata": {},
   "source": [
    "7.4 – Aplicação dos Classificadores\n",
    "\n",
    "Serão usados os seguintes classificadores:\n",
    "* Knn\n",
    "* Árvore de decisão\n",
    "* Naive Bayes"
   ]
  },
  {
   "cell_type": "code",
   "execution_count": null,
   "metadata": {},
   "outputs": [],
   "source": [
    "from sklearn import tree\n",
    "from sklearn.neighbors import KNeighborsClassifier\n",
    "from sklearn.naive_bayes import GaussianNB\n",
    "\n",
    "decision_tree = tree.DecisionTreeClassifier(criterion='entropy', splitter='best')\n",
    "knn = KNeighborsClassifier(n_neighbors=2)\n",
    "naive_bayes = GaussianNB(var_smoothing=1e-5)"
   ]
  },
  {
   "cell_type": "markdown",
   "metadata": {},
   "source": [
    "7.5 – Validação Cruzada"
   ]
  },
  {
   "cell_type": "code",
   "execution_count": null,
   "metadata": {},
   "outputs": [],
   "source": [
    "from sklearn import model_selection\n",
    "import numpy as np\n",
    "\n",
    "kf = model_selection.StratifiedKFold(n_splits=10)\n",
    "number_elements = data.target.shape\n",
    "\n",
    "predicter_class = dict()\n",
    "predicter_class['tree'] = np.zeros(number_elements)\n",
    "predicter_class['knn'] = np.zeros(number_elements)\n",
    "predicter_class['nayve'] = np.zeros(number_elements)"
   ]
  },
  {
   "cell_type": "code",
   "execution_count": null,
   "metadata": {},
   "outputs": [],
   "source": [
    "target = cov_type.target\n",
    "data = cov_type.data\n",
    "\n",
    "for train, test in kf.split(data, target):\n",
    "    data_train, target_train = data[train], target[train]\n",
    "    data_test, targt_test = data[test], target[test]\n",
    "\n",
    "    decision_tree = decision_tree.fit(data_train, target_train)\n",
    "    decision_tree_predicted = decision_tree.predict(data_test)\n",
    "    predicter_class['tree'][test] = decision_tree_predicted\n",
    "\n",
    "    knn_train = knn.fit(data_train, target_train)\n",
    "    knn_predicted = knn.predict(data_test)\n",
    "    predicter_class['knn'][test] = knn_predicted\n",
    "\n",
    "    naive_bayes_train = naive_bayes.fit(data_train, target_train)\n",
    "    naive_bayes_predicted = naive_bayes.predict(data_test)\n",
    "    predicter_class['nayve'][test] = naive_bayes_predicted"
   ]
  },
  {
   "cell_type": "markdown",
   "metadata": {},
   "source": [
    "7.6 – Comparação dos Resultados"
   ]
  },
  {
   "cell_type": "code",
   "execution_count": null,
   "metadata": {},
   "outputs": [],
   "source": [
    "from sklearn import metrics\n",
    "from sklearn.metrics import accuracy_score\n",
    "from sklearn.metrics import check_scoring\n",
    "import matplotlib.pyplot as plt\n",
    "\n",
    "\n",
    "accuracies = {}\n",
    "for classifier in predicter_class.keys():\n",
    "    accuracies[classifier] = accuracy_score(target, predicter_class[classifier])\n",
    "\n",
    "accuracies_df = pd.DataFrame(list(accuracies.items()), columns=['Classifier', 'Accuracy'])\n",
    "\n",
    "    \n",
    "plt.figure(figsize=(10, 6))\n",
    "plt.bar(accuracies_df['Classifier'], accuracies_df['Accuracy'], color=['blue', 'green', 'red'])\n",
    "plt.xlabel('Classificador')\n",
    "plt.ylabel('Acuracia')\n",
    "plt.title('Acuracia para os diferente classificadores')\n",
    "plt.ylim(0, 1) \n",
    "plt.show()"
   ]
  },
  {
   "cell_type": "code",
   "execution_count": null,
   "metadata": {},
   "outputs": [],
   "source": [
    "results = {'Classificador': [], 'Correto': [], 'Incorreto': []}\n",
    "\n",
    "for classifier in predicter_class.keys():\n",
    "    correct = (predicter_class[classifier] == target).sum()\n",
    "    incorrect = (predicter_class[classifier] != target).sum()\n",
    "    results['Classificador'].append(classifier)\n",
    "    results['Correto'].append(correct)\n",
    "    results['Incorreto'].append(incorrect)\n",
    "\n",
    "results_df = pd.DataFrame(results)\n",
    "\n",
    "\n",
    "plt.figure(figsize=(10, 6))\n",
    "plt.bar(results_df['Classificador'], results_df['Correto'], color='green', label='Correto')\n",
    "plt.bar(results_df['Classificador'], results_df['Incorreto'], bottom=results_df['Correto'], color='red', label='Incorreto')\n",
    "plt.xlabel('Classificadores')\n",
    "plt.ylabel('Número de predições')\n",
    "plt.title('Predições corretas e incorretas por classificador')\n",
    "plt.legend()\n",
    "plt.show()"
   ]
  },
  {
   "cell_type": "markdown",
   "metadata": {},
   "source": [
    "7.7 – Discussão"
   ]
  },
  {
   "cell_type": "markdown",
   "metadata": {},
   "source": [
    "# Base de dados 8"
   ]
  },
  {
   "cell_type": "markdown",
   "metadata": {},
   "source": [
    "8.1 – Problema"
   ]
  },
  {
   "cell_type": "markdown",
   "metadata": {},
   "source": [
    "8.2 – Análise Exploratória dos Dados"
   ]
  },
  {
   "cell_type": "markdown",
   "metadata": {},
   "source": [
    "8.3 – Pré-processamento dos Dados"
   ]
  },
  {
   "cell_type": "markdown",
   "metadata": {},
   "source": [
    "8.4 – Aplicação dos Classificadores\n",
    "\n",
    "Serão usados os seguintes classificadores:\n",
    "* Knn\n",
    "* Árvore de decisão\n",
    "* Naive Bayes"
   ]
  },
  {
   "cell_type": "code",
   "execution_count": null,
   "metadata": {},
   "outputs": [],
   "source": [
    "from sklearn import tree\n",
    "from sklearn.neighbors import KNeighborsClassifier\n",
    "from sklearn.naive_bayes import GaussianNB\n",
    "\n",
    "decision_tree = tree.DecisionTreeClassifier(criterion='entropy', splitter='best')\n",
    "knn = KNeighborsClassifier(n_neighbors=2)\n",
    "naive_bayes = GaussianNB(var_smoothing=1e-5)"
   ]
  },
  {
   "cell_type": "markdown",
   "metadata": {},
   "source": [
    "8.5 – Validação Cruzada"
   ]
  },
  {
   "cell_type": "code",
   "execution_count": null,
   "metadata": {},
   "outputs": [],
   "source": [
    "from sklearn import model_selection\n",
    "import numpy as np\n",
    "\n",
    "kf = model_selection.StratifiedKFold(n_splits=10)\n",
    "number_elements = data.target.shape\n",
    "\n",
    "predicter_class = dict()\n",
    "predicter_class['tree'] = np.zeros(number_elements)\n",
    "predicter_class['knn'] = np.zeros(number_elements)\n",
    "predicter_class['nayve'] = np.zeros(number_elements)"
   ]
  },
  {
   "cell_type": "code",
   "execution_count": null,
   "metadata": {},
   "outputs": [],
   "source": [
    "target = cov_type.target\n",
    "data = cov_type.data\n",
    "\n",
    "for train, test in kf.split(data, target):\n",
    "    data_train, target_train = data[train], target[train]\n",
    "    data_test, targt_test = data[test], target[test]\n",
    "\n",
    "    decision_tree = decision_tree.fit(data_train, target_train)\n",
    "    decision_tree_predicted = decision_tree.predict(data_test)\n",
    "    predicter_class['tree'][test] = decision_tree_predicted\n",
    "\n",
    "    knn_train = knn.fit(data_train, target_train)\n",
    "    knn_predicted = knn.predict(data_test)\n",
    "    predicter_class['knn'][test] = knn_predicted\n",
    "\n",
    "    naive_bayes_train = naive_bayes.fit(data_train, target_train)\n",
    "    naive_bayes_predicted = naive_bayes.predict(data_test)\n",
    "    predicter_class['nayve'][test] = naive_bayes_predicted"
   ]
  },
  {
   "cell_type": "markdown",
   "metadata": {},
   "source": [
    "8.6 – Comparação dos Resultados"
   ]
  },
  {
   "cell_type": "code",
   "execution_count": null,
   "metadata": {},
   "outputs": [],
   "source": [
    "from sklearn import metrics\n",
    "from sklearn.metrics import accuracy_score\n",
    "from sklearn.metrics import check_scoring\n",
    "import matplotlib.pyplot as plt\n",
    "\n",
    "\n",
    "accuracies = {}\n",
    "for classifier in predicter_class.keys():\n",
    "    accuracies[classifier] = accuracy_score(target, predicter_class[classifier])\n",
    "\n",
    "accuracies_df = pd.DataFrame(list(accuracies.items()), columns=['Classifier', 'Accuracy'])\n",
    "\n",
    "    \n",
    "plt.figure(figsize=(10, 6))\n",
    "plt.bar(accuracies_df['Classifier'], accuracies_df['Accuracy'], color=['blue', 'green', 'red'])\n",
    "plt.xlabel('Classificador')\n",
    "plt.ylabel('Acuracia')\n",
    "plt.title('Acuracia para os diferente classificadores')\n",
    "plt.ylim(0, 1) \n",
    "plt.show()"
   ]
  },
  {
   "cell_type": "code",
   "execution_count": null,
   "metadata": {},
   "outputs": [],
   "source": [
    "results = {'Classificador': [], 'Correto': [], 'Incorreto': []}\n",
    "\n",
    "for classifier in predicter_class.keys():\n",
    "    correct = (predicter_class[classifier] == target).sum()\n",
    "    incorrect = (predicter_class[classifier] != target).sum()\n",
    "    results['Classificador'].append(classifier)\n",
    "    results['Correto'].append(correct)\n",
    "    results['Incorreto'].append(incorrect)\n",
    "\n",
    "results_df = pd.DataFrame(results)\n",
    "\n",
    "\n",
    "plt.figure(figsize=(10, 6))\n",
    "plt.bar(results_df['Classificador'], results_df['Correto'], color='green', label='Correto')\n",
    "plt.bar(results_df['Classificador'], results_df['Incorreto'], bottom=results_df['Correto'], color='red', label='Incorreto')\n",
    "plt.xlabel('Classificadores')\n",
    "plt.ylabel('Número de predições')\n",
    "plt.title('Predições corretas e incorretas por classificador')\n",
    "plt.legend()\n",
    "plt.show()"
   ]
  },
  {
   "cell_type": "markdown",
   "metadata": {},
   "source": [
    "8.7 – Discussão"
   ]
  },
  {
   "cell_type": "markdown",
   "metadata": {},
   "source": [
    "# Base de dados 9"
   ]
  },
  {
   "cell_type": "markdown",
   "metadata": {},
   "source": [
    "9.1 – Problema"
   ]
  },
  {
   "cell_type": "markdown",
   "metadata": {},
   "source": [
    "9.2 – Análise Exploratória dos Dados"
   ]
  },
  {
   "cell_type": "markdown",
   "metadata": {},
   "source": [
    "9.3 – Pré-processamento dos Dados"
   ]
  },
  {
   "cell_type": "markdown",
   "metadata": {},
   "source": [
    "9.4 – Aplicação dos Classificadores\n",
    "\n",
    "Serão usados os seguintes classificadores:\n",
    "* Knn\n",
    "* Árvore de decisão\n",
    "* Naive Bayes"
   ]
  },
  {
   "cell_type": "code",
   "execution_count": null,
   "metadata": {},
   "outputs": [],
   "source": [
    "from sklearn import tree\n",
    "from sklearn.neighbors import KNeighborsClassifier\n",
    "from sklearn.naive_bayes import GaussianNB\n",
    "\n",
    "decision_tree = tree.DecisionTreeClassifier(criterion='entropy', splitter='best')\n",
    "knn = KNeighborsClassifier(n_neighbors=2)\n",
    "naive_bayes = GaussianNB(var_smoothing=1e-5)"
   ]
  },
  {
   "cell_type": "markdown",
   "metadata": {},
   "source": [
    "9.5 – Validação Cruzada"
   ]
  },
  {
   "cell_type": "code",
   "execution_count": null,
   "metadata": {},
   "outputs": [],
   "source": [
    "from sklearn import model_selection\n",
    "import numpy as np\n",
    "\n",
    "kf = model_selection.StratifiedKFold(n_splits=10)\n",
    "number_elements = data.target.shape\n",
    "\n",
    "predicter_class = dict()\n",
    "predicter_class['tree'] = np.zeros(number_elements)\n",
    "predicter_class['knn'] = np.zeros(number_elements)\n",
    "predicter_class['nayve'] = np.zeros(number_elements)"
   ]
  },
  {
   "cell_type": "code",
   "execution_count": null,
   "metadata": {},
   "outputs": [],
   "source": [
    "target = cov_type.target\n",
    "data = cov_type.data\n",
    "\n",
    "for train, test in kf.split(data, target):\n",
    "    data_train, target_train = data[train], target[train]\n",
    "    data_test, targt_test = data[test], target[test]\n",
    "\n",
    "    decision_tree = decision_tree.fit(data_train, target_train)\n",
    "    decision_tree_predicted = decision_tree.predict(data_test)\n",
    "    predicter_class['tree'][test] = decision_tree_predicted\n",
    "\n",
    "    knn_train = knn.fit(data_train, target_train)\n",
    "    knn_predicted = knn.predict(data_test)\n",
    "    predicter_class['knn'][test] = knn_predicted\n",
    "\n",
    "    naive_bayes_train = naive_bayes.fit(data_train, target_train)\n",
    "    naive_bayes_predicted = naive_bayes.predict(data_test)\n",
    "    predicter_class['nayve'][test] = naive_bayes_predicted"
   ]
  },
  {
   "cell_type": "markdown",
   "metadata": {},
   "source": [
    "9.6 – Comparação dos Resultados"
   ]
  },
  {
   "cell_type": "code",
   "execution_count": null,
   "metadata": {},
   "outputs": [],
   "source": [
    "from sklearn import metrics\n",
    "from sklearn.metrics import accuracy_score\n",
    "from sklearn.metrics import check_scoring\n",
    "import matplotlib.pyplot as plt\n",
    "\n",
    "\n",
    "accuracies = {}\n",
    "for classifier in predicter_class.keys():\n",
    "    accuracies[classifier] = accuracy_score(target, predicter_class[classifier])\n",
    "\n",
    "accuracies_df = pd.DataFrame(list(accuracies.items()), columns=['Classifier', 'Accuracy'])\n",
    "\n",
    "    \n",
    "plt.figure(figsize=(10, 6))\n",
    "plt.bar(accuracies_df['Classifier'], accuracies_df['Accuracy'], color=['blue', 'green', 'red'])\n",
    "plt.xlabel('Classificador')\n",
    "plt.ylabel('Acuracia')\n",
    "plt.title('Acuracia para os diferente classificadores')\n",
    "plt.ylim(0, 1) \n",
    "plt.show()"
   ]
  },
  {
   "cell_type": "code",
   "execution_count": null,
   "metadata": {},
   "outputs": [],
   "source": [
    "results = {'Classificador': [], 'Correto': [], 'Incorreto': []}\n",
    "\n",
    "for classifier in predicter_class.keys():\n",
    "    correct = (predicter_class[classifier] == target).sum()\n",
    "    incorrect = (predicter_class[classifier] != target).sum()\n",
    "    results['Classificador'].append(classifier)\n",
    "    results['Correto'].append(correct)\n",
    "    results['Incorreto'].append(incorrect)\n",
    "\n",
    "results_df = pd.DataFrame(results)\n",
    "\n",
    "\n",
    "plt.figure(figsize=(10, 6))\n",
    "plt.bar(results_df['Classificador'], results_df['Correto'], color='green', label='Correto')\n",
    "plt.bar(results_df['Classificador'], results_df['Incorreto'], bottom=results_df['Correto'], color='red', label='Incorreto')\n",
    "plt.xlabel('Classificadores')\n",
    "plt.ylabel('Número de predições')\n",
    "plt.title('Predições corretas e incorretas por classificador')\n",
    "plt.legend()\n",
    "plt.show()"
   ]
  },
  {
   "cell_type": "markdown",
   "metadata": {},
   "source": [
    "9.7 – Discussão"
   ]
  },
  {
   "cell_type": "markdown",
   "metadata": {},
   "source": [
    "# Base de dados 10"
   ]
  },
  {
   "cell_type": "markdown",
   "metadata": {},
   "source": [
    "10.1 – Problema"
   ]
  },
  {
   "cell_type": "markdown",
   "metadata": {},
   "source": [
    "10.2 – Análise Exploratória dos Dados"
   ]
  },
  {
   "cell_type": "markdown",
   "metadata": {},
   "source": [
    "10.3 – Pré-processamento dos Dados"
   ]
  },
  {
   "cell_type": "markdown",
   "metadata": {},
   "source": [
    "10.4 – Aplicação dos Classificadores\n",
    "\n",
    "Serão usados os seguintes classificadores:\n",
    "* Knn\n",
    "* Árvore de decisão\n",
    "* Naive Bayes"
   ]
  },
  {
   "cell_type": "code",
   "execution_count": null,
   "metadata": {},
   "outputs": [],
   "source": [
    "from sklearn import tree\n",
    "from sklearn.neighbors import KNeighborsClassifier\n",
    "from sklearn.naive_bayes import GaussianNB\n",
    "\n",
    "decision_tree = tree.DecisionTreeClassifier(criterion='entropy', splitter='best')\n",
    "knn = KNeighborsClassifier(n_neighbors=2)\n",
    "naive_bayes = GaussianNB(var_smoothing=1e-5)"
   ]
  },
  {
   "cell_type": "markdown",
   "metadata": {},
   "source": [
    "10.5 – Validação Cruzada"
   ]
  },
  {
   "cell_type": "code",
   "execution_count": null,
   "metadata": {},
   "outputs": [],
   "source": [
    "from sklearn import model_selection\n",
    "import numpy as np\n",
    "\n",
    "kf = model_selection.StratifiedKFold(n_splits=10)\n",
    "number_elements = data.target.shape\n",
    "\n",
    "predicter_class = dict()\n",
    "predicter_class['tree'] = np.zeros(number_elements)\n",
    "predicter_class['knn'] = np.zeros(number_elements)\n",
    "predicter_class['nayve'] = np.zeros(number_elements)"
   ]
  },
  {
   "cell_type": "code",
   "execution_count": null,
   "metadata": {},
   "outputs": [],
   "source": [
    "target = cov_type.target\n",
    "data = cov_type.data\n",
    "\n",
    "for train, test in kf.split(data, target):\n",
    "    data_train, target_train = data[train], target[train]\n",
    "    data_test, targt_test = data[test], target[test]\n",
    "\n",
    "    decision_tree = decision_tree.fit(data_train, target_train)\n",
    "    decision_tree_predicted = decision_tree.predict(data_test)\n",
    "    predicter_class['tree'][test] = decision_tree_predicted\n",
    "\n",
    "    knn_train = knn.fit(data_train, target_train)\n",
    "    knn_predicted = knn.predict(data_test)\n",
    "    predicter_class['knn'][test] = knn_predicted\n",
    "\n",
    "    naive_bayes_train = naive_bayes.fit(data_train, target_train)\n",
    "    naive_bayes_predicted = naive_bayes.predict(data_test)\n",
    "    predicter_class['nayve'][test] = naive_bayes_predicted"
   ]
  },
  {
   "cell_type": "markdown",
   "metadata": {},
   "source": [
    "10.6 – Comparação dos Resultados"
   ]
  },
  {
   "cell_type": "code",
   "execution_count": null,
   "metadata": {},
   "outputs": [],
   "source": [
    "from sklearn import metrics\n",
    "from sklearn.metrics import accuracy_score\n",
    "from sklearn.metrics import check_scoring\n",
    "import matplotlib.pyplot as plt\n",
    "\n",
    "\n",
    "accuracies = {}\n",
    "for classifier in predicter_class.keys():\n",
    "    accuracies[classifier] = accuracy_score(target, predicter_class[classifier])\n",
    "\n",
    "accuracies_df = pd.DataFrame(list(accuracies.items()), columns=['Classifier', 'Accuracy'])\n",
    "\n",
    "    \n",
    "plt.figure(figsize=(10, 6))\n",
    "plt.bar(accuracies_df['Classifier'], accuracies_df['Accuracy'], color=['blue', 'green', 'red'])\n",
    "plt.xlabel('Classificador')\n",
    "plt.ylabel('Acuracia')\n",
    "plt.title('Acuracia para os diferente classificadores')\n",
    "plt.ylim(0, 1) \n",
    "plt.show()"
   ]
  },
  {
   "cell_type": "code",
   "execution_count": null,
   "metadata": {},
   "outputs": [],
   "source": [
    "results = {'Classificador': [], 'Correto': [], 'Incorreto': []}\n",
    "\n",
    "for classifier in predicter_class.keys():\n",
    "    correct = (predicter_class[classifier] == target).sum()\n",
    "    incorrect = (predicter_class[classifier] != target).sum()\n",
    "    results['Classificador'].append(classifier)\n",
    "    results['Correto'].append(correct)\n",
    "    results['Incorreto'].append(incorrect)\n",
    "\n",
    "results_df = pd.DataFrame(results)\n",
    "\n",
    "\n",
    "plt.figure(figsize=(10, 6))\n",
    "plt.bar(results_df['Classificador'], results_df['Correto'], color='green', label='Correto')\n",
    "plt.bar(results_df['Classificador'], results_df['Incorreto'], bottom=results_df['Correto'], color='red', label='Incorreto')\n",
    "plt.xlabel('Classificadores')\n",
    "plt.ylabel('Número de predições')\n",
    "plt.title('Predições corretas e incorretas por classificador')\n",
    "plt.legend()\n",
    "plt.show()"
   ]
  },
  {
   "cell_type": "markdown",
   "metadata": {},
   "source": [
    "10.7 – Discussão"
   ]
  }
 ],
 "metadata": {
  "kernelspec": {
   "display_name": "Python 3",
   "language": "python",
   "name": "python3"
  },
  "language_info": {
   "codemirror_mode": {
    "name": "ipython",
    "version": 3
   },
   "file_extension": ".py",
   "mimetype": "text/x-python",
   "name": "python",
   "nbconvert_exporter": "python",
   "pygments_lexer": "ipython3",
   "version": "3.12.4"
  }
 },
 "nbformat": 4,
 "nbformat_minor": 2
}
